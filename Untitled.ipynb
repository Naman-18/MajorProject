{
 "cells": [
  {
   "cell_type": "code",
   "execution_count": 3,
   "id": "27083a00",
   "metadata": {},
   "outputs": [],
   "source": [
    "from imageSimilarity import imageSimilarity"
   ]
  },
  {
   "cell_type": "code",
   "execution_count": 4,
   "id": "1a8ae14a",
   "metadata": {
    "scrolled": true
   },
   "outputs": [
    {
     "name": "stderr",
     "output_type": "stream",
     "text": [
      "2021-12-09 20:11:28.990589: W tensorflow/core/framework/cpu_allocator_impl.cc:82] Allocation of 411041792 exceeds 10% of free system memory.\n"
     ]
    }
   ],
   "source": [
    "imageSimilarity([\"media/tempImage/cheif_uYlo0mb.jpg\"],\"media/tempImage/cheif_uYlo0mb.jpg\")"
   ]
  }
 ],
 "metadata": {
  "kernelspec": {
   "display_name": "Python (myenv)",
   "language": "python",
   "name": "myenv"
  },
  "language_info": {
   "codemirror_mode": {
    "name": "ipython",
    "version": 3
   },
   "file_extension": ".py",
   "mimetype": "text/x-python",
   "name": "python",
   "nbconvert_exporter": "python",
   "pygments_lexer": "ipython3",
   "version": "3.7.2"
  }
 },
 "nbformat": 4,
 "nbformat_minor": 5
}
